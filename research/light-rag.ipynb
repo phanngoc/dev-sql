{
 "cells": [
  {
   "cell_type": "code",
   "execution_count": 2,
   "metadata": {},
   "outputs": [
    {
     "name": "stdout",
     "output_type": "stream",
     "text": [
      "Collecting lightrag-hku\n",
      "  Downloading lightrag_hku-1.0.6-py3-none-any.whl.metadata (41 kB)\n",
      "Downloading lightrag_hku-1.0.6-py3-none-any.whl (68 kB)\n",
      "Installing collected packages: lightrag-hku\n",
      "Successfully installed lightrag-hku-1.0.6\n"
     ]
    }
   ],
   "source": [
    "!pip install lightrag-hku"
   ]
  },
  {
   "cell_type": "markdown",
   "metadata": {},
   "source": [
    "https://github.com/HKUDS/LightRAG?tab=readme-ov-file"
   ]
  },
  {
   "cell_type": "code",
   "execution_count": 3,
   "metadata": {},
   "outputs": [
    {
     "name": "stdout",
     "output_type": "stream",
     "text": [
      "  % Total    % Received % Xferd  Average Speed   Time    Time     Time  Current\n",
      "                                 Dload  Upload   Total   Spent    Left  Speed\n",
      "100  184k  100  184k    0     0   263k      0 --:--:-- --:--:-- --:--:--  265k\n"
     ]
    }
   ],
   "source": [
    "!curl https://raw.githubusercontent.com/gusye1234/nano-graphrag/main/tests/mock_data.txt > ./book.txt"
   ]
  },
  {
   "cell_type": "code",
   "execution_count": null,
   "metadata": {},
   "outputs": [],
   "source": [
    "import os\n",
    "from lightrag import LightRAG, QueryParam\n",
    "from lightrag.llm import gpt_4o_mini_complete, gpt_4o_complete\n",
    "\n",
    "#########\n",
    "# Uncomment the below two lines if running in a jupyter notebook to handle the async nature of rag.insert()\n",
    "# import nest_asyncio\n",
    "# nest_asyncio.apply()\n",
    "#########\n",
    "\n",
    "WORKING_DIR = \"./dickens\"\n",
    "\n",
    "\n",
    "if not os.path.exists(WORKING_DIR):\n",
    "    os.mkdir(WORKING_DIR)\n",
    "\n",
    "rag = LightRAG(\n",
    "    working_dir=WORKING_DIR,\n",
    "    llm_model_func=gpt_4o_mini_complete  # Use gpt_4o_mini_complete LLM model\n",
    "    # llm_model_func=gpt_4o_complete  # Optionally, use a stronger model\n",
    ")\n",
    "\n",
    "with open(\"./book.txt\") as f:\n",
    "    rag.insert(f.read())\n",
    "\n",
    "# Perform naive search\n",
    "print(rag.query(\"What are the top themes in this story?\", param=QueryParam(mode=\"naive\")))\n",
    "\n",
    "# Perform local search\n",
    "print(rag.query(\"What are the top themes in this story?\", param=QueryParam(mode=\"local\")))\n",
    "\n",
    "# Perform global search\n",
    "print(rag.query(\"What are the top themes in this story?\", param=QueryParam(mode=\"global\")))\n",
    "\n",
    "# Perform hybrid search\n",
    "print(rag.query(\"What are the top themes in this story?\", param=QueryParam(mode=\"hybrid\")))"
   ]
  }
 ],
 "metadata": {
  "kernelspec": {
   "display_name": ".venv",
   "language": "python",
   "name": "python3"
  },
  "language_info": {
   "codemirror_mode": {
    "name": "ipython",
    "version": 3
   },
   "file_extension": ".py",
   "mimetype": "text/x-python",
   "name": "python",
   "nbconvert_exporter": "python",
   "pygments_lexer": "ipython3",
   "version": "3.12.7"
  }
 },
 "nbformat": 4,
 "nbformat_minor": 2
}
