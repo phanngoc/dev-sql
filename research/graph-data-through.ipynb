{
 "cells": [
  {
   "cell_type": "code",
   "execution_count": 2,
   "metadata": {},
   "outputs": [
    {
     "name": "stdout",
     "output_type": "stream",
     "text": [
      "Requirement already satisfied: neo4j in /Users/ngocp/Documents/projects/dev-sql/.venv/lib/python3.12/site-packages (5.27.0)\n",
      "Requirement already satisfied: pytz in /Users/ngocp/Documents/projects/dev-sql/.venv/lib/python3.12/site-packages (from neo4j) (2024.2)\n"
     ]
    }
   ],
   "source": [
    "!pip install neo4j"
   ]
  },
  {
   "cell_type": "code",
   "execution_count": 3,
   "metadata": {},
   "outputs": [],
   "source": [
    "import mysql.connector\n",
    "from neo4j import GraphDatabase\n",
    "\n",
    "# MySQL connection\n",
    "mysql_conn = mysql.connector.connect(\n",
    "    host='127.0.0.1',\n",
    "    user='root',\n",
    "    password='root',\n",
    "    database='eccubedb',\n",
    "    port=13306\n",
    ")\n",
    "\n",
    "# Neo4j connection\n",
    "neo4j_driver = GraphDatabase.driver(\"bolt://localhost:7687\", auth=(\"neo4j\", \"ttt@123ASD\"))\n",
    "\n",
    "# Create a cursor object for MySQL\n",
    "mysql_cursor = mysql_conn.cursor()"
   ]
  },
  {
   "cell_type": "code",
   "execution_count": 4,
   "metadata": {},
   "outputs": [],
   "source": [
    "# Execute the query to get all tables in the schema\n",
    "mysql_cursor.execute(\"SHOW TABLES\")\n",
    "\n",
    "# Fetch all tables\n",
    "tables = mysql_cursor.fetchall()\n",
    "\n",
    "# Initialize a dictionary to store the schema\n",
    "schema = {}\n",
    "\n",
    "# Iterate through each table\n",
    "for table in tables:\n",
    "    table_name = table[0]\n",
    "    schema[table_name] = {\n",
    "        \"columns\": [],\n",
    "        \"foreign_keys\": []\n",
    "    }\n",
    "    \n",
    "    # Execute the query to get all columns of the table\n",
    "    mysql_cursor.execute(f\"SHOW COLUMNS FROM {table_name}\")\n",
    "    columns = mysql_cursor.fetchall()\n",
    "    \n",
    "    # Add columns to the schema\n",
    "    for column in columns:\n",
    "        schema[table_name][\"columns\"].append(column[0])\n",
    "    \n",
    "    # Execute the query to get foreign keys of the table\n",
    "    mysql_cursor.execute(f\"\"\"\n",
    "        SELECT\n",
    "            column_name,\n",
    "            referenced_table_name,\n",
    "            referenced_column_name\n",
    "        FROM\n",
    "            information_schema.key_column_usage\n",
    "        WHERE\n",
    "            table_name = '{table_name}' AND\n",
    "            referenced_table_name IS NOT NULL\n",
    "    \"\"\")\n",
    "    foreign_keys = mysql_cursor.fetchall()\n",
    "    \n",
    "    # Add foreign keys to the schema\n",
    "    for fk in foreign_keys:\n",
    "        schema[table_name][\"foreign_keys\"].append({\n",
    "            \"column\": fk[0],\n",
    "            \"referenced_table\": fk[1],\n",
    "            \"referenced_column\": fk[2]\n",
    "        })\n",
    "\n",
    "# Close the MySQL cursor and connection\n",
    "mysql_cursor.close()\n",
    "mysql_conn.close()\n",
    "\n"
   ]
  },
  {
   "cell_type": "code",
   "execution_count": 25,
   "metadata": {},
   "outputs": [],
   "source": [
    "\n",
    "# Function to create nodes and relationships in Neo4j\n",
    "def create_schema_in_neo4j(schema):\n",
    "    with neo4j_driver.session() as session:\n",
    "        # Create nodes for each table\n",
    "        for table_name, details in schema.items():\n",
    "            session.run(f\"CREATE (t:Table {{name: '{table_name}'}})\")\n",
    "            \n",
    "            # Create nodes for each column\n",
    "            for column in details[\"columns\"]:\n",
    "                session.run(f\"\"\"\n",
    "                    MATCH (t:Table {{name: '{table_name}'}})\n",
    "                    CREATE (c:Column {{name: '{column}'}})-[:BELONGS_TO]->(t)\n",
    "                \"\"\")\n",
    "            \n",
    "            # Create relationships for foreign keys\n",
    "            for fk in details[\"foreign_keys\"]:\n",
    "                session.run(f\"\"\"\n",
    "                    MATCH (t1:Table {{name: '{table_name}'}}),\n",
    "                          (t2:Table {{name: '{fk['referenced_table']}'}})\n",
    "                    CREATE (t1)-[:FOREIGN_KEY {{column: '{fk['column']}', referenced_column: '{fk['referenced_column']}'}}]->(t2)\n",
    "                \"\"\")\n",
    "\n",
    "# Create the schema in Neo4j\n",
    "create_schema_in_neo4j(schema)"
   ]
  },
  {
   "cell_type": "code",
   "execution_count": 31,
   "metadata": {},
   "outputs": [
    {
     "name": "stdout",
     "output_type": "stream",
     "text": [
      "table_node <Node element_id='4:c9175aa1-74a8-47eb-9110-710878eb2fec:21682' labels=frozenset({'Table'}) properties={'name': 'dtb_customer'}> <class 'neo4j.graph.Node'>\n",
      "table_properties {'name': 'dtb_customer'}\n",
      "Table: dtb_customer\n",
      "Identity: 21682\n",
      "Labels: frozenset({'Table'})\n",
      "ElementId: 4:c9175aa1-74a8-47eb-9110-710878eb2fec:21682\n",
      "Relationships:\n",
      "  - dtb_customer references dcm_order_type(default_order_type -> id)\n",
      "\n"
     ]
    },
    {
     "name": "stderr",
     "output_type": "stream",
     "text": [
      "/var/folders/g6/37kt02914kx36yzcbbqfyck00000gn/T/ipykernel_47849/344678359.py:21: DeprecationWarning: `id` is deprecated, use `element_id` instead\n",
      "  print(f\"Identity: {table_node.id}\")\n"
     ]
    }
   ],
   "source": [
    "def get_all_tables_and_relationships(filter=None):\n",
    "    query = \"\"\"\n",
    "    MATCH (n:Table)\n",
    "    MATCH (n:Table)-[r:FOREIGN_KEY]->(t2:Table)\n",
    "    WHERE n.name = $filter\n",
    "    RETURN n, collect({from: n.name, to: t2.name, column: r.column, referenced_column: r.referenced_column}) AS relationships\n",
    "    LIMIT 1000\n",
    "    \"\"\"\n",
    "\n",
    "    with neo4j_driver.session() as session:\n",
    "        result = session.run(query, filter=filter)\n",
    "        for record in result:\n",
    "            # print('record', record)\n",
    "            table_node = record['n']\n",
    "            print('table_node', table_node, type(table_node))\n",
    "            table_properties = table_node._properties\n",
    "            print('table_properties', table_properties)\n",
    "            if table_properties is not None:\n",
    "                table_name = table_properties.get('name', 'Unknown')\n",
    "                print(f\"Table: {table_name}\")\n",
    "            print(f\"Identity: {table_node.id}\")\n",
    "            print(f\"Labels: {table_node.labels}\")\n",
    "            print(f\"ElementId: {table_node.element_id}\")\n",
    "            print(\"Relationships:\")\n",
    "            for relationship in record['relationships']:\n",
    "                if relationship['from'] and relationship['to']:\n",
    "                    print(f\"  - {relationship['from']} references {relationship['to']}({relationship['column']} -> {relationship['referenced_column']})\")\n",
    "            print()\n",
    "\n",
    "# Get all tables and their relationships with an optional filter\n",
    "get_all_tables_and_relationships('dtb_customer')"
   ]
  },
  {
   "cell_type": "code",
   "execution_count": 23,
   "metadata": {},
   "outputs": [
    {
     "name": "stdout",
     "output_type": "stream",
     "text": [
      "All nodes with label 'Table' and their relationships have been deleted.\n"
     ]
    }
   ],
   "source": [
    "def clear_all_tables():\n",
    "    query = \"\"\"\n",
    "    MATCH (n:Table)\n",
    "    DETACH DELETE n\n",
    "    \"\"\"\n",
    "\n",
    "    with neo4j_driver.session() as session:\n",
    "        session.run(query)\n",
    "        print(\"All nodes with label 'Table' and their relationships have been deleted.\")\n",
    "\n",
    "# Clear all nodes with label 'Table' and their relationships\n",
    "clear_all_tables()"
   ]
  }
 ],
 "metadata": {
  "kernelspec": {
   "display_name": ".venv",
   "language": "python",
   "name": "python3"
  },
  "language_info": {
   "codemirror_mode": {
    "name": "ipython",
    "version": 3
   },
   "file_extension": ".py",
   "mimetype": "text/x-python",
   "name": "python",
   "nbconvert_exporter": "python",
   "pygments_lexer": "ipython3",
   "version": "3.12.7"
  }
 },
 "nbformat": 4,
 "nbformat_minor": 2
}
